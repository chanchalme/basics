{
 "cells": [
  {
   "cell_type": "code",
   "execution_count": 17,
   "metadata": {
    "collapsed": true
   },
   "outputs": [],
   "source": [
    "# Python ≥3.5 is required\n",
    "import sys\n",
    "assert sys.version_info >= (3, 5)\n",
    "\n",
    "# Scikit-Learn ≥0.20 is required\n",
    "import sklearn\n",
    "assert sklearn.__version__ >= \"0.20\"\n",
    "\n",
    "# Common imports\n",
    "import numpy as np\n",
    "import os\n",
    "\n",
    "# to make this notebook's output stable across runs\n",
    "np.random.seed(42)\n",
    "\n",
    "# To plot pretty figures\n",
    "%matplotlib inline\n",
    "import matplotlib as mpl\n",
    "import matplotlib.pyplot as plt\n",
    "mpl.rc('axes', labelsize=14)\n",
    "mpl.rc('xtick', labelsize=12)\n",
    "mpl.rc('ytick', labelsize=12)\n",
    "\n",
    "# Where to save the figures\n",
    "PROJECT_ROOT_DIR = \".\"\n",
    "CHAPTER_ID = \"ensembles\"\n",
    "IMAGES_PATH = os.path.join(PROJECT_ROOT_DIR, \"images\", CHAPTER_ID)\n",
    "os.makedirs(IMAGES_PATH, exist_ok=True)\n",
    "\n",
    "def save_fig(fig_id, tight_layout=True, fig_extension=\"png\", resolution=300):\n",
    "    path = os.path.join(IMAGES_PATH, fig_id + \".\" + fig_extension)\n",
    "    print(\"Saving figure\", fig_id)\n",
    "    if tight_layout:\n",
    "        plt.tight_layout()\n",
    "    plt.savefig(path, format=fig_extension, dpi=resolution)"
   ]
  },
  {
   "cell_type": "markdown",
   "metadata": {},
   "source": [
    "### *Voting Classifier*"
   ]
  },
  {
   "cell_type": "markdown",
   "metadata": {},
   "source": [
    "***Hard Voting***"
   ]
  },
  {
   "cell_type": "code",
   "execution_count": 18,
   "metadata": {
    "collapsed": true
   },
   "outputs": [],
   "source": [
    "from sklearn.datasets import make_moons\n",
    "from sklearn.model_selection import train_test_split"
   ]
  },
  {
   "cell_type": "code",
   "execution_count": 25,
   "metadata": {
    "collapsed": true
   },
   "outputs": [],
   "source": [
    "X, y = make_moons(n_samples = 500, noise = 0.30, random_state = 42)\n",
    "X_train, X_test, y_train, y_test = train_test_split(X, y, random_state = 42)"
   ]
  },
  {
   "cell_type": "code",
   "execution_count": 26,
   "metadata": {
    "collapsed": true
   },
   "outputs": [],
   "source": [
    "from sklearn.ensemble import RandomForestClassifier, VotingClassifier\n",
    "from sklearn.linear_model import LogisticRegression\n",
    "from sklearn.svm import SVC"
   ]
  },
  {
   "cell_type": "code",
   "execution_count": 27,
   "metadata": {
    "collapsed": true
   },
   "outputs": [],
   "source": [
    "reg_clf = LogisticRegression(solver=\"lbfgs\", random_state = 42)\n",
    "rf_clf = RandomForestClassifier(n_estimators = 100, random_state = 42)\n",
    "svm_clf = SVC(gamma = \"scale\", random_state = 42)"
   ]
  },
  {
   "cell_type": "code",
   "execution_count": 28,
   "metadata": {
    "collapsed": true
   },
   "outputs": [],
   "source": [
    "vot_clf = VotingClassifier(\n",
    "            estimators = [('lr', reg_clf), ('rf', rf_clf), ('svc', svm_clf)],\n",
    "            voting = 'hard')"
   ]
  },
  {
   "cell_type": "code",
   "execution_count": 29,
   "metadata": {},
   "outputs": [
    {
     "data": {
      "text/plain": [
       "VotingClassifier(estimators=[('lr', LogisticRegression(random_state=42)),\n",
       "                             ('rf', RandomForestClassifier(random_state=42)),\n",
       "                             ('svc', SVC(random_state=42))])"
      ]
     },
     "execution_count": 29,
     "metadata": {},
     "output_type": "execute_result"
    }
   ],
   "source": [
    "vot_clf.fit(X_train, y_train)"
   ]
  },
  {
   "cell_type": "code",
   "execution_count": 31,
   "metadata": {},
   "outputs": [
    {
     "name": "stdout",
     "output_type": "stream",
     "text": [
      "LogisticRegression 0.864\n",
      "RandomForestClassifier 0.896\n",
      "SVC 0.896\n",
      "VotingClassifier 0.912\n"
     ]
    }
   ],
   "source": [
    "from sklearn.metrics import accuracy_score\n",
    "\n",
    "for clf in (reg_clf, rf_clf, svm_clf, vot_clf):\n",
    "    clf.fit(X_train, y_train)\n",
    "    y_pred = clf.predict(X_test)\n",
    "    print(clf.__class__.__name__, accuracy_score(y_test, y_pred))"
   ]
  },
  {
   "cell_type": "markdown",
   "metadata": {},
   "source": [
    "***Soft Voting***"
   ]
  },
  {
   "cell_type": "code",
   "execution_count": 33,
   "metadata": {
    "collapsed": true
   },
   "outputs": [],
   "source": [
    "ref_clf = LogisticRegression(solver = 'lbfgs', random_state = 42)\n",
    "rf_clf = RandomForestClassifier(n_estimators = 100, random_state = 42)\n",
    "svm_clf = SVC(gamma = 'scale', probability = True, random_state = 42)"
   ]
  },
  {
   "cell_type": "code",
   "execution_count": 34,
   "metadata": {
    "collapsed": true
   },
   "outputs": [],
   "source": [
    "vot_clf = VotingClassifier(\n",
    "            estimators = [('lr', ref_clf), ('rf', rf_clf), ('svm', svm_clf)],\n",
    "            voting = 'soft')"
   ]
  },
  {
   "cell_type": "code",
   "execution_count": 35,
   "metadata": {},
   "outputs": [
    {
     "data": {
      "text/plain": [
       "VotingClassifier(estimators=[('lr', LogisticRegression(random_state=42)),\n",
       "                             ('rf', RandomForestClassifier(random_state=42)),\n",
       "                             ('svm', SVC(probability=True, random_state=42))],\n",
       "                 voting='soft')"
      ]
     },
     "execution_count": 35,
     "metadata": {},
     "output_type": "execute_result"
    }
   ],
   "source": [
    "vot_clf.fit(X_train, y_train)"
   ]
  },
  {
   "cell_type": "code",
   "execution_count": 36,
   "metadata": {},
   "outputs": [
    {
     "name": "stdout",
     "output_type": "stream",
     "text": [
      "LogisticRegression 0.864\n",
      "RandomForestClassifier 0.896\n",
      "SVC 0.896\n",
      "VotingClassifier 0.92\n"
     ]
    }
   ],
   "source": [
    "for clf in (ref_clf, rf_clf, svm_clf, vot_clf):\n",
    "    clf.fit(X_train, y_train)\n",
    "    y_pred = clf.predict(X_test)\n",
    "    print(clf.__class__.__name__, accuracy_score(y_test, y_pred))"
   ]
  },
  {
   "cell_type": "markdown",
   "metadata": {},
   "source": [
    "### *Bagging and Pasting*"
   ]
  },
  {
   "cell_type": "code",
   "execution_count": 48,
   "metadata": {
    "collapsed": true
   },
   "outputs": [],
   "source": [
    "from sklearn.tree import DecisionTreeClassifier\n",
    "from sklearn.ensemble import BaggingClassifier\n",
    "\n",
    "bag_clf = BaggingClassifier(DecisionTreeClassifier(), \n",
    "                            n_estimators = 500, \n",
    "                            max_samples = 100, \n",
    "                            bootstrap = True, # for bagging (not pasting)\n",
    "                            n_jobs = -1)"
   ]
  },
  {
   "cell_type": "code",
   "execution_count": 39,
   "metadata": {},
   "outputs": [
    {
     "data": {
      "text/plain": [
       "BaggingClassifier(base_estimator=DecisionTreeClassifier(), max_samples=100,\n",
       "                  n_estimators=500, n_jobs=-1)"
      ]
     },
     "execution_count": 39,
     "metadata": {},
     "output_type": "execute_result"
    }
   ],
   "source": [
    "bag_clf.fit(X_train, y_train)"
   ]
  },
  {
   "cell_type": "code",
   "execution_count": 40,
   "metadata": {},
   "outputs": [
    {
     "data": {
      "text/plain": [
       "0.904"
      ]
     },
     "execution_count": 40,
     "metadata": {},
     "output_type": "execute_result"
    }
   ],
   "source": [
    "y_pred = bag_clf.predict(X_test)\n",
    "accuracy_score(y_test, y_pred)"
   ]
  },
  {
   "cell_type": "code",
   "execution_count": 41,
   "metadata": {
    "collapsed": true
   },
   "outputs": [],
   "source": [
    "oob_clf = BaggingClassifier(DecisionTreeClassifier(), \n",
    "                            n_estimators = 500, \n",
    "                            max_samples = 100, \n",
    "                            bootstrap = True, \n",
    "                            n_jobs = -1, \n",
    "                            oob_score = True)"
   ]
  },
  {
   "cell_type": "code",
   "execution_count": 42,
   "metadata": {},
   "outputs": [
    {
     "data": {
      "text/plain": [
       "BaggingClassifier(base_estimator=DecisionTreeClassifier(), max_samples=100,\n",
       "                  n_estimators=500, n_jobs=-1, oob_score=True)"
      ]
     },
     "execution_count": 42,
     "metadata": {},
     "output_type": "execute_result"
    }
   ],
   "source": [
    "oob_clf.fit(X_train, y_train)"
   ]
  },
  {
   "cell_type": "code",
   "execution_count": 43,
   "metadata": {},
   "outputs": [
    {
     "data": {
      "text/plain": [
       "0.904"
      ]
     },
     "execution_count": 43,
     "metadata": {},
     "output_type": "execute_result"
    }
   ],
   "source": [
    "y_pred = oob_clf.predict(X_test)\n",
    "accuracy_score(y_test, y_pred)"
   ]
  },
  {
   "cell_type": "code",
   "execution_count": 44,
   "metadata": {},
   "outputs": [
    {
     "data": {
      "text/plain": [
       "0.9226666666666666"
      ]
     },
     "execution_count": 44,
     "metadata": {},
     "output_type": "execute_result"
    }
   ],
   "source": [
    "oob_clf.oob_score_"
   ]
  },
  {
   "cell_type": "code",
   "execution_count": 45,
   "metadata": {},
   "outputs": [
    {
     "data": {
      "text/plain": [
       "array([[0.35074627, 0.64925373],\n",
       "       [0.35658915, 0.64341085],\n",
       "       [1.        , 0.        ],\n",
       "       [0.01312336, 0.98687664],\n",
       "       [0.02525253, 0.97474747],\n",
       "       [0.11363636, 0.88636364],\n",
       "       [0.40106952, 0.59893048],\n",
       "       [0.06887755, 0.93112245],\n",
       "       [0.93139842, 0.06860158],\n",
       "       [0.84168865, 0.15831135],\n",
       "       [0.50518135, 0.49481865],\n",
       "       [0.04477612, 0.95522388],\n",
       "       [0.70437018, 0.29562982],\n",
       "       [0.82716049, 0.17283951],\n",
       "       [0.93076923, 0.06923077],\n",
       "       [0.09399478, 0.90600522],\n",
       "       [0.03896104, 0.96103896],\n",
       "       [0.92119565, 0.07880435],\n",
       "       [0.64736842, 0.35263158],\n",
       "       [0.96482412, 0.03517588],\n",
       "       [0.03217158, 0.96782842],\n",
       "       [0.23306233, 0.76693767],\n",
       "       [0.88717949, 0.11282051],\n",
       "       [0.98200514, 0.01799486],\n",
       "       [0.95618557, 0.04381443],\n",
       "       [0.00257732, 0.99742268],\n",
       "       [0.97855228, 0.02144772],\n",
       "       [1.        , 0.        ],\n",
       "       [0.02849741, 0.97150259],\n",
       "       [0.71276596, 0.28723404],\n",
       "       [0.        , 1.        ],\n",
       "       [0.99487179, 0.00512821],\n",
       "       [0.01856764, 0.98143236],\n",
       "       [0.09234828, 0.90765172],\n",
       "       [0.08201058, 0.91798942],\n",
       "       [0.98172324, 0.01827676],\n",
       "       [0.01336898, 0.98663102],\n",
       "       [0.51908397, 0.48091603],\n",
       "       [0.01578947, 0.98421053],\n",
       "       [0.99741602, 0.00258398],\n",
       "       [0.06217617, 0.93782383],\n",
       "       [0.37808219, 0.62191781],\n",
       "       [1.        , 0.        ],\n",
       "       [0.99222798, 0.00777202],\n",
       "       [0.01259446, 0.98740554],\n",
       "       [1.        , 0.        ],\n",
       "       [0.99738903, 0.00261097],\n",
       "       [0.02570694, 0.97429306],\n",
       "       [0.98421053, 0.01578947],\n",
       "       [0.01822917, 0.98177083],\n",
       "       [0.9488491 , 0.0511509 ],\n",
       "       [0.83333333, 0.16666667],\n",
       "       [0.94164456, 0.05835544],\n",
       "       [0.79155673, 0.20844327],\n",
       "       [0.02030457, 0.97969543],\n",
       "       [0.0987013 , 0.9012987 ],\n",
       "       [0.80701754, 0.19298246],\n",
       "       [0.01041667, 0.98958333],\n",
       "       [0.01822917, 0.98177083],\n",
       "       [0.03038674, 0.96961326],\n",
       "       [0.82512315, 0.17487685],\n",
       "       [0.624     , 0.376     ],\n",
       "       [0.67792208, 0.32207792],\n",
       "       [0.98924731, 0.01075269],\n",
       "       [0.00779221, 0.99220779],\n",
       "       [0.81315789, 0.18684211],\n",
       "       [0.98461538, 0.01538462],\n",
       "       [0.98465473, 0.01534527],\n",
       "       [0.60519481, 0.39480519],\n",
       "       [0.97631579, 0.02368421],\n",
       "       [0.31648936, 0.68351064],\n",
       "       [0.31521739, 0.68478261],\n",
       "       [0.39798489, 0.60201511],\n",
       "       [0.65829146, 0.34170854],\n",
       "       [0.0080429 , 0.9919571 ],\n",
       "       [0.31903485, 0.68096515],\n",
       "       [0.85263158, 0.14736842],\n",
       "       [1.        , 0.        ],\n",
       "       [0.03562341, 0.96437659],\n",
       "       [0.96240602, 0.03759398],\n",
       "       [0.00746269, 0.99253731],\n",
       "       [0.23719677, 0.76280323],\n",
       "       [0.10677083, 0.89322917],\n",
       "       [0.43307087, 0.56692913],\n",
       "       [0.99483204, 0.00516796],\n",
       "       [0.05194805, 0.94805195],\n",
       "       [0.5694051 , 0.4305949 ],\n",
       "       [0.06666667, 0.93333333],\n",
       "       [0.05684755, 0.94315245],\n",
       "       [0.        , 1.        ],\n",
       "       [0.34320988, 0.65679012],\n",
       "       [1.        , 0.        ],\n",
       "       [0.01351351, 0.98648649],\n",
       "       [0.06020942, 0.93979058],\n",
       "       [0.015625  , 0.984375  ],\n",
       "       [0.80913978, 0.19086022],\n",
       "       [0.57978723, 0.42021277],\n",
       "       [0.07123288, 0.92876712],\n",
       "       [0.99484536, 0.00515464],\n",
       "       [0.31398417, 0.68601583],\n",
       "       [0.67929293, 0.32070707],\n",
       "       [0.00779221, 0.99220779],\n",
       "       [0.08625337, 0.91374663],\n",
       "       [0.42025316, 0.57974684],\n",
       "       [0.97943445, 0.02056555],\n",
       "       [0.066313  , 0.933687  ],\n",
       "       [0.96808511, 0.03191489],\n",
       "       [0.44736842, 0.55263158],\n",
       "       [0.2746114 , 0.7253886 ],\n",
       "       [0.99491094, 0.00508906],\n",
       "       [0.19072165, 0.80927835],\n",
       "       [0.85872576, 0.14127424],\n",
       "       [0.27272727, 0.72727273],\n",
       "       [0.78385417, 0.21614583],\n",
       "       [0.99204244, 0.00795756],\n",
       "       [0.99491094, 0.00508906],\n",
       "       [0.        , 1.        ],\n",
       "       [0.00255102, 0.99744898],\n",
       "       [0.46733668, 0.53266332],\n",
       "       [0.9921875 , 0.0078125 ],\n",
       "       [0.07888041, 0.92111959],\n",
       "       [0.98979592, 0.01020408],\n",
       "       [0.95431472, 0.04568528],\n",
       "       [0.99734748, 0.00265252],\n",
       "       [0.9469496 , 0.0530504 ],\n",
       "       [0.96286472, 0.03713528],\n",
       "       [0.03100775, 0.96899225],\n",
       "       [0.92467532, 0.07532468],\n",
       "       [0.94822888, 0.05177112],\n",
       "       [0.01846966, 0.98153034],\n",
       "       [0.22834646, 0.77165354],\n",
       "       [0.86666667, 0.13333333],\n",
       "       [0.38618926, 0.61381074],\n",
       "       [0.90909091, 0.09090909],\n",
       "       [0.        , 1.        ],\n",
       "       [0.03394256, 0.96605744],\n",
       "       [0.74936709, 0.25063291],\n",
       "       [0.71502591, 0.28497409],\n",
       "       [0.5012987 , 0.4987013 ],\n",
       "       [0.84180791, 0.15819209],\n",
       "       [0.91729323, 0.08270677],\n",
       "       [0.13216958, 0.86783042],\n",
       "       [0.79787234, 0.20212766],\n",
       "       [0.03517588, 0.96482412],\n",
       "       [0.0104712 , 0.9895288 ],\n",
       "       [0.08169014, 0.91830986],\n",
       "       [0.73783784, 0.26216216],\n",
       "       [0.95652174, 0.04347826],\n",
       "       [1.        , 0.        ],\n",
       "       [0.03753351, 0.96246649],\n",
       "       [0.00537634, 0.99462366],\n",
       "       [0.09462916, 0.90537084],\n",
       "       [0.03626943, 0.96373057],\n",
       "       [0.99487179, 0.00512821],\n",
       "       [0.9843342 , 0.0156658 ],\n",
       "       [0.86197917, 0.13802083],\n",
       "       [0.99734748, 0.00265252],\n",
       "       [1.        , 0.        ],\n",
       "       [0.89230769, 0.10769231],\n",
       "       [0.01028278, 0.98971722],\n",
       "       [0.66752577, 0.33247423],\n",
       "       [0.32880435, 0.67119565],\n",
       "       [0.05236908, 0.94763092],\n",
       "       [0.00511509, 0.99488491],\n",
       "       [0.37837838, 0.62162162],\n",
       "       [0.99460916, 0.00539084],\n",
       "       [0.9609375 , 0.0390625 ],\n",
       "       [0.00253165, 0.99746835],\n",
       "       [0.99189189, 0.00810811],\n",
       "       [0.06613757, 0.93386243],\n",
       "       [0.00522193, 0.99477807],\n",
       "       [0.95212766, 0.04787234],\n",
       "       [0.01295337, 0.98704663],\n",
       "       [0.00516796, 0.99483204],\n",
       "       [0.99738903, 0.00261097],\n",
       "       [0.01243781, 0.98756219],\n",
       "       [0.82152231, 0.17847769],\n",
       "       [0.90439276, 0.09560724],\n",
       "       [0.05714286, 0.94285714],\n",
       "       [0.96348315, 0.03651685],\n",
       "       [0.93169399, 0.06830601],\n",
       "       [0.97943445, 0.02056555],\n",
       "       [0.01278772, 0.98721228],\n",
       "       [0.01542416, 0.98457584],\n",
       "       [0.99455041, 0.00544959],\n",
       "       [0.22193211, 0.77806789],\n",
       "       [0.99240506, 0.00759494],\n",
       "       [0.07915567, 0.92084433],\n",
       "       [0.02849741, 0.97150259],\n",
       "       [0.98941799, 0.01058201],\n",
       "       [0.        , 1.        ],\n",
       "       [0.13385827, 0.86614173],\n",
       "       [0.88250653, 0.11749347],\n",
       "       [0.89664083, 0.10335917],\n",
       "       [0.60589812, 0.39410188],\n",
       "       [0.66666667, 0.33333333],\n",
       "       [0.0178117 , 0.9821883 ],\n",
       "       [0.24281984, 0.75718016],\n",
       "       [0.98961039, 0.01038961],\n",
       "       [0.92388451, 0.07611549],\n",
       "       [0.93963255, 0.06036745],\n",
       "       [0.98236776, 0.01763224],\n",
       "       [0.06770833, 0.93229167],\n",
       "       [0.01302083, 0.98697917],\n",
       "       [0.10298103, 0.89701897],\n",
       "       [0.47643979, 0.52356021],\n",
       "       [0.        , 1.        ],\n",
       "       [0.02864583, 0.97135417],\n",
       "       [0.95821727, 0.04178273],\n",
       "       [0.078125  , 0.921875  ],\n",
       "       [0.1300813 , 0.8699187 ],\n",
       "       [0.89866667, 0.10133333],\n",
       "       [0.06770833, 0.93229167],\n",
       "       [0.31707317, 0.68292683],\n",
       "       [0.01041667, 0.98958333],\n",
       "       [1.        , 0.        ],\n",
       "       [0.02624672, 0.97375328],\n",
       "       [0.01344086, 0.98655914],\n",
       "       [0.91094148, 0.08905852],\n",
       "       [0.86768448, 0.13231552],\n",
       "       [0.94609164, 0.05390836],\n",
       "       [0.0183727 , 0.9816273 ],\n",
       "       [0.08629442, 0.91370558],\n",
       "       [0.94850949, 0.05149051],\n",
       "       [0.12433862, 0.87566138],\n",
       "       [0.00527704, 0.99472296],\n",
       "       [0.27821522, 0.72178478],\n",
       "       [0.96915167, 0.03084833],\n",
       "       [0.82702703, 0.17297297],\n",
       "       [0.12435233, 0.87564767],\n",
       "       [0.73913043, 0.26086957],\n",
       "       [0.95641026, 0.04358974],\n",
       "       [0.13589744, 0.86410256],\n",
       "       [0.16010499, 0.83989501],\n",
       "       [0.98992443, 0.01007557],\n",
       "       [0.        , 1.        ],\n",
       "       [0.02617801, 0.97382199],\n",
       "       [0.0132626 , 0.9867374 ],\n",
       "       [0.32152589, 0.67847411],\n",
       "       [0.86734694, 0.13265306],\n",
       "       [0.04266667, 0.95733333],\n",
       "       [0.98227848, 0.01772152],\n",
       "       [0.86956522, 0.13043478],\n",
       "       [0.00257732, 0.99742268],\n",
       "       [0.78092784, 0.21907216],\n",
       "       [0.9950495 , 0.0049505 ],\n",
       "       [0.00789474, 0.99210526],\n",
       "       [0.99728261, 0.00271739],\n",
       "       [0.06318681, 0.93681319],\n",
       "       [0.01052632, 0.98947368],\n",
       "       [0.10471204, 0.89528796],\n",
       "       [0.2244898 , 0.7755102 ],\n",
       "       [0.84880637, 0.15119363],\n",
       "       [0.09424084, 0.90575916],\n",
       "       [0.98955614, 0.01044386],\n",
       "       [0.63129973, 0.36870027],\n",
       "       [0.10152284, 0.89847716],\n",
       "       [0.61439589, 0.38560411],\n",
       "       [0.82089552, 0.17910448],\n",
       "       [0.01344086, 0.98655914],\n",
       "       [0.9895288 , 0.0104712 ],\n",
       "       [0.0078534 , 0.9921466 ],\n",
       "       [0.        , 1.        ],\n",
       "       [0.75128205, 0.24871795],\n",
       "       [0.        , 1.        ],\n",
       "       [0.98677249, 0.01322751],\n",
       "       [0.07329843, 0.92670157],\n",
       "       [0.71688312, 0.28311688],\n",
       "       [0.13486005, 0.86513995],\n",
       "       [0.9947644 , 0.0052356 ],\n",
       "       [0.89218329, 0.10781671],\n",
       "       [0.01012658, 0.98987342],\n",
       "       [0.07692308, 0.92307692],\n",
       "       [0.13333333, 0.86666667],\n",
       "       [0.09793814, 0.90206186],\n",
       "       [0.        , 1.        ],\n",
       "       [0.97461929, 0.02538071],\n",
       "       [0.82233503, 0.17766497],\n",
       "       [0.20754717, 0.79245283],\n",
       "       [0.94054054, 0.05945946],\n",
       "       [0.05882353, 0.94117647],\n",
       "       [0.65364583, 0.34635417],\n",
       "       [0.1484375 , 0.8515625 ],\n",
       "       [0.96658098, 0.03341902],\n",
       "       [0.87823834, 0.12176166],\n",
       "       [0.01319261, 0.98680739],\n",
       "       [0.93820225, 0.06179775],\n",
       "       [0.91935484, 0.08064516],\n",
       "       [0.00516796, 0.99483204],\n",
       "       [0.06666667, 0.93333333],\n",
       "       [0.99459459, 0.00540541],\n",
       "       [0.03835616, 0.96164384],\n",
       "       [0.99746835, 0.00253165],\n",
       "       [0.08421053, 0.91578947],\n",
       "       [0.90884718, 0.09115282],\n",
       "       [1.        , 0.        ],\n",
       "       [0.0106383 , 0.9893617 ],\n",
       "       [0.0388601 , 0.9611399 ],\n",
       "       [0.64467005, 0.35532995],\n",
       "       [0.        , 1.        ],\n",
       "       [1.        , 0.        ],\n",
       "       [0.65625   , 0.34375   ],\n",
       "       [0.86807388, 0.13192612],\n",
       "       [0.99212598, 0.00787402],\n",
       "       [0.65586035, 0.34413965],\n",
       "       [0.45194805, 0.54805195],\n",
       "       [0.04603581, 0.95396419],\n",
       "       [0.81725888, 0.18274112],\n",
       "       [0.01015228, 0.98984772],\n",
       "       [0.9947644 , 0.0052356 ],\n",
       "       [0.76902174, 0.23097826],\n",
       "       [1.        , 0.        ],\n",
       "       [0.99740933, 0.00259067],\n",
       "       [0.82245431, 0.17754569],\n",
       "       [0.25128205, 0.74871795],\n",
       "       [0.16030534, 0.83969466],\n",
       "       [0.19072165, 0.80927835],\n",
       "       [0.        , 1.        ],\n",
       "       [0.73474801, 0.26525199],\n",
       "       [0.87341772, 0.12658228],\n",
       "       [0.046875  , 0.953125  ],\n",
       "       [0.99742931, 0.00257069],\n",
       "       [0.95821727, 0.04178273],\n",
       "       [0.9973545 , 0.0026455 ],\n",
       "       [0.00808625, 0.99191375],\n",
       "       [0.06718346, 0.93281654],\n",
       "       [0.93455497, 0.06544503],\n",
       "       [0.90591398, 0.09408602],\n",
       "       [0.99746193, 0.00253807],\n",
       "       [0.23514212, 0.76485788],\n",
       "       [0.98963731, 0.01036269],\n",
       "       [0.12182741, 0.87817259],\n",
       "       [0.94986807, 0.05013193],\n",
       "       [0.04896907, 0.95103093],\n",
       "       [0.97911227, 0.02088773],\n",
       "       [0.99480519, 0.00519481],\n",
       "       [0.99202128, 0.00797872],\n",
       "       [0.00258398, 0.99741602],\n",
       "       [0.9119171 , 0.0880829 ],\n",
       "       [0.01846966, 0.98153034],\n",
       "       [0.03794038, 0.96205962],\n",
       "       [0.07349081, 0.92650919],\n",
       "       [0.        , 1.        ],\n",
       "       [1.        , 0.        ],\n",
       "       [0.98425197, 0.01574803],\n",
       "       [0.        , 1.        ],\n",
       "       [0.94652406, 0.05347594],\n",
       "       [0.07774799, 0.92225201],\n",
       "       [0.99197861, 0.00802139],\n",
       "       [0.19181586, 0.80818414],\n",
       "       [0.00757576, 0.99242424],\n",
       "       [0.05319149, 0.94680851],\n",
       "       [0.        , 1.        ],\n",
       "       [0.78191489, 0.21808511],\n",
       "       [0.07795699, 0.92204301],\n",
       "       [0.11450382, 0.88549618],\n",
       "       [0.99746193, 0.00253807],\n",
       "       [0.94923858, 0.05076142],\n",
       "       [0.18863049, 0.81136951],\n",
       "       [0.95211268, 0.04788732],\n",
       "       [0.08188586, 0.91811414],\n",
       "       [0.12860892, 0.87139108],\n",
       "       [0.99197861, 0.00802139],\n",
       "       [0.93817204, 0.06182796],\n",
       "       [0.50387597, 0.49612403],\n",
       "       [0.89459459, 0.10540541],\n",
       "       [0.99737533, 0.00262467],\n",
       "       [0.05333333, 0.94666667],\n",
       "       [0.96721311, 0.03278689],\n",
       "       [0.04557641, 0.95442359],\n",
       "       [0.10471204, 0.89528796],\n",
       "       [0.94666667, 0.05333333],\n",
       "       [1.        , 0.        ],\n",
       "       [0.07161804, 0.92838196],\n",
       "       [0.6961039 , 0.3038961 ]])"
      ]
     },
     "execution_count": 45,
     "metadata": {},
     "output_type": "execute_result"
    }
   ],
   "source": [
    "oob_clf.oob_decision_function_"
   ]
  },
  {
   "cell_type": "markdown",
   "metadata": {},
   "source": [
    "### *Random Forests*"
   ]
  },
  {
   "cell_type": "code",
   "execution_count": 47,
   "metadata": {
    "collapsed": true
   },
   "outputs": [],
   "source": [
    "from sklearn.ensemble import RandomForestClassifier"
   ]
  },
  {
   "cell_type": "code",
   "execution_count": 51,
   "metadata": {},
   "outputs": [
    {
     "data": {
      "text/plain": [
       "RandomForestClassifier(max_leaf_nodes=16, n_estimators=500, n_jobs=-1)"
      ]
     },
     "execution_count": 51,
     "metadata": {},
     "output_type": "execute_result"
    }
   ],
   "source": [
    "rand_clf = RandomForestClassifier(n_estimators = 500, max_leaf_nodes = 16, n_jobs = -1)\n",
    "rand_clf.fit(X_train, y_train)"
   ]
  },
  {
   "cell_type": "code",
   "execution_count": 52,
   "metadata": {
    "collapsed": true
   },
   "outputs": [],
   "source": [
    "y_pred = rand_clf.predict(X_test)"
   ]
  },
  {
   "cell_type": "code",
   "execution_count": 53,
   "metadata": {},
   "outputs": [
    {
     "data": {
      "text/plain": [
       "0.92"
      ]
     },
     "execution_count": 53,
     "metadata": {},
     "output_type": "execute_result"
    }
   ],
   "source": [
    "accuracy_score(y_test, y_pred)"
   ]
  },
  {
   "cell_type": "code",
   "execution_count": 54,
   "metadata": {
    "collapsed": true
   },
   "outputs": [],
   "source": [
    "from sklearn.datasets import load_iris\n",
    "\n",
    "iris = load_iris()\n",
    "X = iris[\"data\"]\n",
    "y = iris[\"target\"]"
   ]
  },
  {
   "cell_type": "code",
   "execution_count": 56,
   "metadata": {},
   "outputs": [
    {
     "data": {
      "text/plain": [
       "RandomForestClassifier(n_estimators=500, n_jobs=-1)"
      ]
     },
     "execution_count": 56,
     "metadata": {},
     "output_type": "execute_result"
    }
   ],
   "source": [
    "rand_clf = RandomForestClassifier(n_estimators = 500, n_jobs = -1)\n",
    "rand_clf.fit(X, y)"
   ]
  },
  {
   "cell_type": "code",
   "execution_count": 59,
   "metadata": {},
   "outputs": [
    {
     "name": "stdout",
     "output_type": "stream",
     "text": [
      "sepal length (cm) 0.10599880324508258\n",
      "sepal width (cm) 0.026481285908525984\n",
      "petal length (cm) 0.42442825580521776\n",
      "petal width (cm) 0.44309165504117376\n"
     ]
    }
   ],
   "source": [
    "for name, score in zip(iris[\"feature_names\"], rand_clf.feature_importances_):\n",
    "    print(name, score)"
   ]
  },
  {
   "cell_type": "markdown",
   "metadata": {},
   "source": [
    "### *Boosting*"
   ]
  },
  {
   "cell_type": "markdown",
   "metadata": {},
   "source": [
    "*AdaBoost*"
   ]
  },
  {
   "cell_type": "code",
   "execution_count": 60,
   "metadata": {
    "collapsed": true
   },
   "outputs": [],
   "source": [
    "from sklearn.ensemble import AdaBoostClassifier\n",
    "ada_clf = AdaBoostClassifier(DecisionTreeClassifier(max_depth = 3), \n",
    "                             n_estimators = 200, \n",
    "                             algorithm = 'SAMME.R', \n",
    "                             learning_rate = 0.5)"
   ]
  },
  {
   "cell_type": "code",
   "execution_count": 61,
   "metadata": {},
   "outputs": [
    {
     "data": {
      "text/plain": [
       "0.88"
      ]
     },
     "execution_count": 61,
     "metadata": {},
     "output_type": "execute_result"
    }
   ],
   "source": [
    "ada_clf.fit(X_train, y_train)\n",
    "y_pred = ada_clf.predict(X_test)\n",
    "accuracy_score(y_test, y_pred)"
   ]
  },
  {
   "cell_type": "markdown",
   "metadata": {},
   "source": [
    "*Gradient Boosting*"
   ]
  },
  {
   "cell_type": "code",
   "execution_count": 75,
   "metadata": {
    "collapsed": true
   },
   "outputs": [],
   "source": [
    "# with early stopping\n",
    "\n",
    "from sklearn.ensemble import GradientBoostingRegressor\n",
    "import numpy as np\n",
    "from sklearn.model_selection import train_test_split\n",
    "from sklearn.metrics import mean_squared_error\n",
    "\n",
    "from sklearn.datasets import make_moons\n",
    "\n",
    "X, y = make_moons(n_samples = 500, noise = 0.30, random_state = 42)\n",
    "X_train, X_test, y_train, y_test = train_test_split(X, y, random_state = 42)\n",
    "\n",
    "gbrt = GradientBoostingRegressor(max_depth = 2, warm_start = True)"
   ]
  },
  {
   "cell_type": "code",
   "execution_count": 76,
   "metadata": {},
   "outputs": [
    {
     "name": "stdout",
     "output_type": "stream",
     "text": [
      "54\n",
      "0.07118698905492556\n"
     ]
    }
   ],
   "source": [
    "min_val_error = float('inf')\n",
    "error_going_up = 0\n",
    "\n",
    "for n_estimators in range(1, 120):\n",
    "    gbrt.n_estimators = n_estimators\n",
    "    gbrt.fit(X_train, y_train)\n",
    "    y_pred = gbrt.predict(X_test)\n",
    "    val_error = mean_squared_error(y_test, y_pred)\n",
    "    if val_error < min_val_error:\n",
    "        min_val_error = val_error\n",
    "        error_going_up = 0\n",
    "    else:\n",
    "        error_going_up += 1\n",
    "        if error_going_up == 5:\n",
    "            break\n",
    "            \n",
    "            \n",
    "print(gbrt.n_estimators)\n",
    "print(min_val_error)"
   ]
  },
  {
   "cell_type": "markdown",
   "metadata": {},
   "source": [
    "#### *Question 8*"
   ]
  },
  {
   "cell_type": "code",
   "execution_count": 94,
   "metadata": {
    "collapsed": true
   },
   "outputs": [],
   "source": [
    "from sklearn.datasets import fetch_openml\n",
    "\n",
    "mnist = fetch_openml('mnist_784', version=1)\n",
    "mnist.target = mnist.target.astype(np.uint8)\n",
    "\n",
    "from sklearn.model_selection import train_test_split"
   ]
  },
  {
   "cell_type": "code",
   "execution_count": 95,
   "metadata": {
    "collapsed": true
   },
   "outputs": [],
   "source": [
    "X, y = mnist.data, mnist.target\n",
    "\n",
    "X_train_val, X_test, y_train_val, y_test = train_test_split(X, y, test_size = 10000, random_state = 42)\n",
    "X_train, X_val, y_train, y_val = train_test_split(X_train_val, y_train_val, test_size = 10000, random_state = 42)"
   ]
  },
  {
   "cell_type": "code",
   "execution_count": null,
   "metadata": {},
   "outputs": [],
   "source": [
    "from sklearn.ensemble import RandomForestClassifier, ExtraTreesClassifier\n",
    "from sklearn.svm import SVC\n",
    "from sklearn.metrics import accuracy_score\n",
    "\n",
    "rand_clf = RandomForestClassifier(n_estimators = 500, max_leaf_nodes = 16, n_jobs = -1, random_state = 42)\n",
    "ext_clf = ExtraTreesClassifier(n_estimators = 500, max_leaf_nodes = 16, n_jobs = -1, random_state = 42)\n",
    "svm_clf = SVC(kernel = \"rbf\", gamma = 5, C = 0.001, random_state = 42)\n",
    "\n",
    "val_error = []\n",
    "estimators = [rand_clf, ext_clf, svm_clf]\n",
    "\n",
    "for clf in estimators:\n",
    "    print(clf)\n",
    "    clf.fit(X_train, y_train)\n",
    "#     y_val_predict = clf.predict(X_val)\n",
    "#     val_error.append(accuracy_score(y_val, y_pred))"
   ]
  },
  {
   "cell_type": "code",
   "execution_count": null,
   "metadata": {
    "collapsed": true
   },
   "outputs": [],
   "source": [
    "[clf.score(X_val, y_val) for clf in estimators]"
   ]
  },
  {
   "cell_type": "code",
   "execution_count": null,
   "metadata": {
    "collapsed": true
   },
   "outputs": [],
   "source": [
    "from sklearn.ensemble import VotingClassifier\n",
    "\n",
    "estimators = [\n",
    "    ('random_forest', rand_clf),\n",
    "    ('extra_random_forest', ext_clf),\n",
    "    ('svm', svm_clf)\n",
    "]\n",
    "\n",
    "voting_clf = VotinClassifier(estimators)"
   ]
  },
  {
   "cell_type": "code",
   "execution_count": null,
   "metadata": {
    "collapsed": true
   },
   "outputs": [],
   "source": [
    "voting_clf.fit(X_train, y_train)"
   ]
  },
  {
   "cell_type": "code",
   "execution_count": null,
   "metadata": {
    "collapsed": true
   },
   "outputs": [],
   "source": [
    "voing_clf.score(X_val, y_val)"
   ]
  },
  {
   "cell_type": "code",
   "execution_count": null,
   "metadata": {
    "collapsed": true
   },
   "outputs": [],
   "source": [
    "[clf.score(X_val, y_val) for clf in voting_clf.estimators_]"
   ]
  },
  {
   "cell_type": "code",
   "execution_count": null,
   "metadata": {
    "collapsed": true
   },
   "outputs": [],
   "source": [
    "voting_clf.voting = \"soft\"\n",
    "voting_clf.score(X_val, y_val)"
   ]
  },
  {
   "cell_type": "code",
   "execution_count": null,
   "metadata": {
    "collapsed": true
   },
   "outputs": [],
   "source": [
    "voting_clf.voting = \"hard\"\n",
    "voting_clf.score(X_test, y_test)"
   ]
  },
  {
   "cell_type": "code",
   "execution_count": null,
   "metadata": {
    "collapsed": true
   },
   "outputs": [],
   "source": [
    "[clf.score(X_test, y_test) for clf in voting_clf.estimators_]"
   ]
  },
  {
   "cell_type": "markdown",
   "metadata": {},
   "source": [
    "#### *Question 9*"
   ]
  },
  {
   "cell_type": "code",
   "execution_count": null,
   "metadata": {
    "collapsed": true
   },
   "outputs": [],
   "source": []
  }
 ],
 "metadata": {
  "kernelspec": {
   "display_name": "Python 3",
   "language": "python",
   "name": "python3"
  },
  "language_info": {
   "codemirror_mode": {
    "name": "ipython",
    "version": 3
   },
   "file_extension": ".py",
   "mimetype": "text/x-python",
   "name": "python",
   "nbconvert_exporter": "python",
   "pygments_lexer": "ipython3",
   "version": "3.6.7"
  }
 },
 "nbformat": 4,
 "nbformat_minor": 2
}
